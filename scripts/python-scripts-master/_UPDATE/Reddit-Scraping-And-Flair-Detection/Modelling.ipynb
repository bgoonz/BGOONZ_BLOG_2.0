{
  "nbformat": 4,
  "nbformat_minor": 0,
  "metadata": {
    "kernelspec": {
      "display_name": "Python 3",
      "language": "python",
      "name": "python3"
    },
    "language_info": {
      "codemirror_mode": {
        "name": "ipython",
        "version": 3
      },
      "file_extension": ".py",
      "mimetype": "text/x-python",
      "name": "python",
      "nbconvert_exporter": "python",
      "pygments_lexer": "ipython3",
      "version": "3.8.3"
    },
    "colab": {
      "name": "Modelling.ipynb",
      "provenance": [],
      "toc_visible": true,
      "include_colab_link": true
    }
  },
  "cells": [
    {
      "cell_type": "markdown",
      "metadata": {
        "id": "view-in-github",
        "colab_type": "text"
      },
      "source": [
        "<a href=\"https://colab.research.google.com/github/shubhigupta991/Reddit-Flair-Detection/blob/main/scripts/Modelling.ipynb\" target=\"_parent\"><img src=\"https://colab.research.google.com/assets/colab-badge.svg\" alt=\"Open In Colab\"/></a>"
      ]
    },
    {
      "cell_type": "markdown",
      "metadata": {
        "id": "LO7mMSXXCORM"
      },
      "source": [
        "## Showing Data"
      ]
    },
    {
      "cell_type": "code",
      "metadata": {
        "id": "SyfNb57OVBHl"
      },
      "source": [
        "import pandas as pd\n",
        "import numpy as np\n",
        "import matplotlib.pyplot as plt\n",
        "import seaborn as sns"
      ],
      "execution_count": 1,
      "outputs": []
    },
    {
      "cell_type": "code",
      "metadata": {
        "colab": {
          "base_uri": "https://localhost:8080/",
          "height": 717
        },
        "id": "tCY-RcAMCJQX",
        "outputId": "a52c111d-9ec6-4b55-dfd4-cf9479f7aa64"
      },
      "source": [
        "data = pd.read_csv(\"drive/MyDrive/data.csv\")\n",
        "data.head()"
      ],
      "execution_count": 2,
      "outputs": [
        {
          "output_type": "execute_result",
          "data": {
            "text/html": [
              "<div>\n",
              "<style scoped>\n",
              "    .dataframe tbody tr th:only-of-type {\n",
              "        vertical-align: middle;\n",
              "    }\n",
              "\n",
              "    .dataframe tbody tr th {\n",
              "        vertical-align: top;\n",
              "    }\n",
              "\n",
              "    .dataframe thead th {\n",
              "        text-align: right;\n",
              "    }\n",
              "</style>\n",
              "<table border=\"1\" class=\"dataframe\">\n",
              "  <thead>\n",
              "    <tr style=\"text-align: right;\">\n",
              "      <th></th>\n",
              "      <th>title</th>\n",
              "      <th>id</th>\n",
              "      <th>score</th>\n",
              "      <th>url</th>\n",
              "      <th>num_of_comments</th>\n",
              "      <th>body</th>\n",
              "      <th>author</th>\n",
              "      <th>comments</th>\n",
              "      <th>flair</th>\n",
              "      <th>timestamp</th>\n",
              "      <th>combined_features</th>\n",
              "    </tr>\n",
              "  </thead>\n",
              "  <tbody>\n",
              "    <tr>\n",
              "      <th>0</th>\n",
              "      <td>gelatine available</td>\n",
              "      <td>jk9zlt</td>\n",
              "      <td>0</td>\n",
              "      <td>https://www.reddit.com/r/india/comments/jk9zlt...</td>\n",
              "      <td>4</td>\n",
              "      <td>wish buy gelatine looking cheapest local price...</td>\n",
              "      <td>csstudentG</td>\n",
              "      <td>available regular kirana stores usually kept r...</td>\n",
              "      <td>AskIndia</td>\n",
              "      <td>2020-10-29 21:26:38</td>\n",
              "      <td>gelatine availableavailable regular kirana sto...</td>\n",
              "    </tr>\n",
              "    <tr>\n",
              "      <th>1</th>\n",
              "      <td>trevor noah jokes indo pak tensions seriousnes...</td>\n",
              "      <td>gv9lmh</td>\n",
              "      <td>37</td>\n",
              "      <td>https://www.reddit.com/r/india/comments/gv9lmh...</td>\n",
              "      <td>29</td>\n",
              "      <td>really watch much trevor noah late night show ...</td>\n",
              "      <td>CommYouNitty</td>\n",
              "      <td>mostly country really matter lives pretty chea...</td>\n",
              "      <td>AskIndia</td>\n",
              "      <td>2020-06-02 23:42:24</td>\n",
              "      <td>trevor noah jokes indo pak tensions seriousnes...</td>\n",
              "    </tr>\n",
              "    <tr>\n",
              "      <th>2</th>\n",
              "      <td>buying used bs4 scooty april 1 issues registra...</td>\n",
              "      <td>hpqq5o</td>\n",
              "      <td>11</td>\n",
              "      <td>https://www.reddit.com/r/india/comments/hpqq5o...</td>\n",
              "      <td>7</td>\n",
              "      <td>know right place ask askindia asking saw artic...</td>\n",
              "      <td>akza07</td>\n",
              "      <td>scammers keep scamming applies new vehicles bu...</td>\n",
              "      <td>AskIndia</td>\n",
              "      <td>2020-07-12 15:58:15</td>\n",
              "      <td>buying used bs4 scooty april 1 issues registra...</td>\n",
              "    </tr>\n",
              "    <tr>\n",
              "      <th>3</th>\n",
              "      <td>need feedback insurance policy took x post ask...</td>\n",
              "      <td>1s57oi</td>\n",
              "      <td>1</td>\n",
              "      <td>https://www.reddit.com/r/india/comments/1s57oi...</td>\n",
              "      <td>1</td>\n",
              "      <td>posting lack activity r askindia hello last ye...</td>\n",
              "      <td>dhavalcoholic</td>\n",
              "      <td>dear policy holder dhavalcoholic request help ...</td>\n",
              "      <td>AskIndia</td>\n",
              "      <td>2013-12-05 14:30:23</td>\n",
              "      <td>need feedback insurance policy took x post ask...</td>\n",
              "    </tr>\n",
              "    <tr>\n",
              "      <th>4</th>\n",
              "      <td>could suggest good dramedies</td>\n",
              "      <td>h7t0r2</td>\n",
              "      <td>5</td>\n",
              "      <td>https://www.reddit.com/r/india/comments/h7t0r2...</td>\n",
              "      <td>4</td>\n",
              "      <td>r askindia restricted posting sure ask hope gu...</td>\n",
              "      <td>dont_mess_with_tx</td>\n",
              "      <td>vicky donor jolly llb angoor comedy guide dram...</td>\n",
              "      <td>AskIndia</td>\n",
              "      <td>2020-06-13 04:58:52</td>\n",
              "      <td>could suggest good dramediesvicky donor jolly ...</td>\n",
              "    </tr>\n",
              "  </tbody>\n",
              "</table>\n",
              "</div>"
            ],
            "text/plain": [
              "                                               title  ...                                  combined_features\n",
              "0                                 gelatine available  ...  gelatine availableavailable regular kirana sto...\n",
              "1  trevor noah jokes indo pak tensions seriousnes...  ...  trevor noah jokes indo pak tensions seriousnes...\n",
              "2  buying used bs4 scooty april 1 issues registra...  ...  buying used bs4 scooty april 1 issues registra...\n",
              "3  need feedback insurance policy took x post ask...  ...  need feedback insurance policy took x post ask...\n",
              "4                       could suggest good dramedies  ...  could suggest good dramediesvicky donor jolly ...\n",
              "\n",
              "[5 rows x 11 columns]"
            ]
          },
          "metadata": {
            "tags": []
          },
          "execution_count": 2
        }
      ]
    },
    {
      "cell_type": "code",
      "metadata": {
        "id": "21s_lj57VBHn"
      },
      "source": [
        "data.fillna(\"None\",inplace = True)"
      ],
      "execution_count": 3,
      "outputs": []
    },
    {
      "cell_type": "code",
      "metadata": {
        "colab": {
          "base_uri": "https://localhost:8080/"
        },
        "id": "PQ4r08DzVBHn",
        "outputId": "e795c440-7ea8-43f1-879a-9e7000848907"
      },
      "source": [
        "data.isna().sum()"
      ],
      "execution_count": 4,
      "outputs": [
        {
          "output_type": "execute_result",
          "data": {
            "text/plain": [
              "title                0\n",
              "id                   0\n",
              "score                0\n",
              "url                  0\n",
              "num_of_comments      0\n",
              "body                 0\n",
              "author               0\n",
              "comments             0\n",
              "flair                0\n",
              "timestamp            0\n",
              "combined_features    0\n",
              "dtype: int64"
            ]
          },
          "metadata": {
            "tags": []
          },
          "execution_count": 4
        }
      ]
    },
    {
      "cell_type": "markdown",
      "metadata": {
        "id": "Sq7PnlhKVBHn"
      },
      "source": [
        "## Data Preprocessing and Model Fitting"
      ]
    },
    {
      "cell_type": "code",
      "metadata": {
        "id": "WOEGj1RwVBHo"
      },
      "source": [
        "from sklearn.model_selection import train_test_split\n",
        "from sklearn.pipeline import Pipeline\n",
        "from sklearn.feature_extraction.text import TfidfTransformer\n",
        "from sklearn.feature_extraction.text import CountVectorizer\n",
        "from sklearn.linear_model import SGDClassifier\n",
        "from sklearn.ensemble import RandomForestClassifier\n",
        "from sklearn.neighbors import KNeighborsClassifier\n",
        "from sklearn.linear_model import LogisticRegression\n",
        "from xgboost import XGBClassifier"
      ],
      "execution_count": 5,
      "outputs": []
    },
    {
      "cell_type": "code",
      "metadata": {
        "id": "Bjwi9kevVBHo"
      },
      "source": [
        "def fit_and_score(models,X_train,y_train,X_test,y_test) :\n",
        "    '''\n",
        "    Fits and evaluate given machine learning model.\n",
        "    \n",
        "    Parameters:-\n",
        "    models = Take a dictionary of models to fit and evaluate.\n",
        "    X_train = Training data without labels.\n",
        "    y_train = Training labels.\n",
        "    X_test = Test data without labels.\n",
        "    y_test = Test labels\n",
        "    '''\n",
        "    \n",
        "    np.random.seed(21)\n",
        "    model_scores = {}\n",
        "    for model_name, model in models.items() :\n",
        "        model = Pipeline([('vect', CountVectorizer()),\n",
        "                  ('tfidf', TfidfTransformer()),\n",
        "                  (model_name, model)])\n",
        "        print(f'Fitting {model_name} .....')\n",
        "        model.fit(X_train,y_train)\n",
        "        print(f'Evaluating {model_name} .....')\n",
        "        model_scores[model_name] = model.score(X_test,y_test)\n",
        "        \n",
        "    return model_scores"
      ],
      "execution_count": 6,
      "outputs": []
    },
    {
      "cell_type": "code",
      "metadata": {
        "id": "nieKGJs3cQPO"
      },
      "source": [
        "models = {'LogisticRegression' : LogisticRegression(),\n",
        "          'Linear_svm' : SGDClassifier(),\n",
        "          'KNN': KNeighborsClassifier(),\n",
        "          'RandomForestClassifier' : RandomForestClassifier(),\n",
        "          'XGBClassifier' : XGBClassifier()}"
      ],
      "execution_count": 7,
      "outputs": []
    },
    {
      "cell_type": "code",
      "metadata": {
        "id": "WBj6GzwAaWVb"
      },
      "source": [
        "features = {'combined_features' : data['combined_features'],\n",
        "'comments' : data['comments'],\n",
        "'title' : data['title'],\n",
        "'body' : data['body'],\n",
        "'url' : data['url']}   \n",
        "\n",
        "cat = data['flair']"
      ],
      "execution_count": 8,
      "outputs": []
    },
    {
      "cell_type": "code",
      "metadata": {
        "colab": {
          "base_uri": "https://localhost:8080/"
        },
        "id": "dpUsKqMZcVeW",
        "outputId": "39fb9e2e-7295-4ebb-c8e9-c5516ee47545"
      },
      "source": [
        "scores = {}\n",
        "\n",
        "for feature in features:\n",
        "\n",
        "  X_train,X_test,y_train,y_test = train_test_split(features[feature],cat,test_size=0.2, random_state = 21)\n",
        "  print(f'Flair Detection using {feature} as Feature')\n",
        "  model_scores = fit_and_score(models,X_train,y_train,X_test,y_test)\n",
        "\n",
        "  scores[feature] =  model_scores"
      ],
      "execution_count": 9,
      "outputs": [
        {
          "output_type": "stream",
          "text": [
            "Flair Detection using combined_features as Feature\n",
            "Fitting LogisticRegression .....\n",
            "Evaluating LogisticRegression .....\n",
            "Fitting Linear_svm .....\n",
            "Evaluating Linear_svm .....\n",
            "Fitting KNN .....\n",
            "Evaluating KNN .....\n",
            "Fitting RandomForestClassifier .....\n",
            "Evaluating RandomForestClassifier .....\n",
            "Fitting XGBClassifier .....\n",
            "Evaluating XGBClassifier .....\n",
            "Flair Detection using comments as Feature\n",
            "Fitting LogisticRegression .....\n",
            "Evaluating LogisticRegression .....\n",
            "Fitting Linear_svm .....\n",
            "Evaluating Linear_svm .....\n",
            "Fitting KNN .....\n",
            "Evaluating KNN .....\n",
            "Fitting RandomForestClassifier .....\n",
            "Evaluating RandomForestClassifier .....\n",
            "Fitting XGBClassifier .....\n",
            "Evaluating XGBClassifier .....\n",
            "Flair Detection using title as Feature\n",
            "Fitting LogisticRegression .....\n",
            "Evaluating LogisticRegression .....\n",
            "Fitting Linear_svm .....\n",
            "Evaluating Linear_svm .....\n",
            "Fitting KNN .....\n",
            "Evaluating KNN .....\n",
            "Fitting RandomForestClassifier .....\n",
            "Evaluating RandomForestClassifier .....\n",
            "Fitting XGBClassifier .....\n",
            "Evaluating XGBClassifier .....\n",
            "Flair Detection using body as Feature\n",
            "Fitting LogisticRegression .....\n",
            "Evaluating LogisticRegression .....\n",
            "Fitting Linear_svm .....\n",
            "Evaluating Linear_svm .....\n",
            "Fitting KNN .....\n",
            "Evaluating KNN .....\n",
            "Fitting RandomForestClassifier .....\n",
            "Evaluating RandomForestClassifier .....\n",
            "Fitting XGBClassifier .....\n",
            "Evaluating XGBClassifier .....\n",
            "Flair Detection using url as Feature\n",
            "Fitting LogisticRegression .....\n",
            "Evaluating LogisticRegression .....\n",
            "Fitting Linear_svm .....\n",
            "Evaluating Linear_svm .....\n",
            "Fitting KNN .....\n",
            "Evaluating KNN .....\n",
            "Fitting RandomForestClassifier .....\n",
            "Evaluating RandomForestClassifier .....\n",
            "Fitting XGBClassifier .....\n",
            "Evaluating XGBClassifier .....\n"
          ],
          "name": "stdout"
        }
      ]
    },
    {
      "cell_type": "code",
      "metadata": {
        "colab": {
          "base_uri": "https://localhost:8080/"
        },
        "id": "sjcHOBi0gaIU",
        "outputId": "a0e03f21-3607-4bcf-b3ff-0fb2ac5883a8"
      },
      "source": [
        "scores"
      ],
      "execution_count": 10,
      "outputs": [
        {
          "output_type": "execute_result",
          "data": {
            "text/plain": [
              "{'body': {'KNN': 0.28688524590163933,\n",
              "  'Linear_svm': 0.3360655737704918,\n",
              "  'LogisticRegression': 0.30327868852459017,\n",
              "  'RandomForestClassifier': 0.3975409836065574,\n",
              "  'XGBClassifier': 0.4180327868852459},\n",
              " 'combined_features': {'KNN': 0.5204918032786885,\n",
              "  'Linear_svm': 0.7581967213114754,\n",
              "  'LogisticRegression': 0.7336065573770492,\n",
              "  'RandomForestClassifier': 0.7663934426229508,\n",
              "  'XGBClassifier': 0.8565573770491803},\n",
              " 'comments': {'KNN': 0.3442622950819672,\n",
              "  'Linear_svm': 0.44672131147540983,\n",
              "  'LogisticRegression': 0.4385245901639344,\n",
              "  'RandomForestClassifier': 0.4016393442622951,\n",
              "  'XGBClassifier': 0.4139344262295082},\n",
              " 'title': {'KNN': 0.5327868852459017,\n",
              "  'Linear_svm': 0.6557377049180327,\n",
              "  'LogisticRegression': 0.6926229508196722,\n",
              "  'RandomForestClassifier': 0.7090163934426229,\n",
              "  'XGBClassifier': 0.6639344262295082},\n",
              " 'url': {'KNN': 0.21311475409836064,\n",
              "  'Linear_svm': 0.319672131147541,\n",
              "  'LogisticRegression': 0.30327868852459017,\n",
              "  'RandomForestClassifier': 0.2581967213114754,\n",
              "  'XGBClassifier': 0.28688524590163933}}"
            ]
          },
          "metadata": {
            "tags": []
          },
          "execution_count": 10
        }
      ]
    },
    {
      "cell_type": "code",
      "metadata": {
        "colab": {
          "base_uri": "https://localhost:8080/",
          "height": 1000
        },
        "id": "GCUunMFYj3ee",
        "outputId": "7b8d0266-32ea-40ae-d2e9-44107253aec2"
      },
      "source": [
        "for feature,score in scores.items():\n",
        "  model_compare = pd.DataFrame(score,index = ['accuracy'])\n",
        "  model_compare.T.plot.bar(title=feature.upper())"
      ],
      "execution_count": 11,
      "outputs": [
        {
          "output_type": "display_data",
          "data": {
            "image/png": "[encoded data removed]",
            "text/plain": [
              "<Figure size 432x288 with 1 Axes>"
            ]
          },
          "metadata": {
            "tags": [],
            "needs_background": "light"
          }
        },
        {
          "output_type": "display_data",
          "data": {
            "image/png": "[encoded data removed]",
            "text/plain": [
              "<Figure size 432x288 with 1 Axes>"
            ]
          },
          "metadata": {
            "tags": [],
            "needs_background": "light"
          }
        },
        {
          "output_type": "display_data",
          "data": {
            "image/png": "[encoded data removed]",
            "text/plain": [
              "<Figure size 432x288 with 1 Axes>"
            ]
          },
          "metadata": {
            "tags": [],
            "needs_background": "light"
          }
        },
        {
          "output_type": "display_data",
          "data": {
            "image/png": "[encoded data removed]",
            "text/plain": [
              "<Figure size 432x288 with 1 Axes>"
            ]
          },
          "metadata": {
            "tags": [],
            "needs_background": "light"
          }
        },
        {
          "output_type": "display_data",
          "data": {
            "image/png": "[encoded data removed]",
            "text/plain": [
              "<Figure size 432x288 with 1 Axes>"
            ]
          },
          "metadata": {
            "tags": [],
            "needs_background": "light"
          }
        }
      ]
    },
    {
      "cell_type": "markdown",
      "metadata": {
        "id": "P9YLI05eVUkc"
      },
      "source": [
        "## Best Model \n",
        "By observing the above results I concluded that the model that gives the best result is `XGBClassifier` and the best feature for predicting flair is `combined_features`.\n",
        "\n"
      ]
    },
    {
      "cell_type": "code",
      "metadata": {
        "colab": {
          "base_uri": "https://localhost:8080/"
        },
        "id": "TqJKtTZKk7yi",
        "outputId": "2174af21-18aa-45c9-ead9-042e98888e39"
      },
      "source": [
        "X = data['combined_features']\n",
        "y = data['flair']\n",
        "\n",
        "np.random.seed(21)\n",
        "\n",
        "X_train,X_test,y_train,y_test = train_test_split(X,y,test_size=0.2)\n",
        "model = Pipeline([('vect', CountVectorizer()),\n",
        "                   ('tfidf', TfidfTransformer()),\n",
        "                   ('clf', XGBClassifier())])\n",
        "model.fit(X_train,y_train)\n",
        "model_score = model.score(X_test,y_test)\n",
        "print(f'Model score : {model_score}')"
      ],
      "execution_count": 12,
      "outputs": [
        {
          "output_type": "stream",
          "text": [
            "Model score : 0.8565573770491803\n"
          ],
          "name": "stdout"
        }
      ]
    },
    {
      "cell_type": "markdown",
      "metadata": {
        "id": "5BCXC2cjYl2r"
      },
      "source": [
        "## Improving a model\n",
        "First prediction = baseline prediction First model = baseline model\n",
        "\n",
        "From data perspective:\n",
        "\n",
        "* Could we collect more data. (generally,the more data, the better)\n",
        "* Can we improve data? (adding more reliable features)\n",
        "\n",
        "From a model perspective:\n",
        "\n",
        "* Is there a better model we can use? (Refer - sklearn ml map)\n",
        "* Could we imporove our model? (Tuning Hyperparameters)\n",
        "Parameters vs HyperParameters\n",
        "\n",
        "Parameters :- model find these patterns\n",
        "* Hyperparameters :- settings on model we can adjust(potentially) to improve its ability to find patterns\n"
      ]
    },
    {
      "cell_type": "markdown",
      "metadata": {
        "id": "lBRWsrb6gU67"
      },
      "source": [
        "After going though the model documentation https://xgboost.readthedocs.io/en/latest/parameter.html and by experimenting \n",
        "I found that the best parameters are :\n",
        "n_estimators=1000, verbosity=1, seed=2, \n",
        "colsample_bytree=0.6, subsample=0.7,objective='multi:softmax'"
      ]
    },
    {
      "cell_type": "code",
      "metadata": {
        "id": "Bs_EN9WBQSBQ"
      },
      "source": [
        "X = data['combined_features']\n",
        "y = data['flair']\n",
        "\n",
        "X_train, X_test, y_train, y_test = train_test_split(X,y, test_size = 0.2, random_state = 21) \n",
        "model = Pipeline([('vect', CountVectorizer()),\n",
        "                   ('tfidf', TfidfTransformer()),\n",
        "                   ('clf', XGBClassifier(random_state=42,n_estimators=1000,verbosity=1, seed=2, \n",
        "                                         colsample_bytree=0.6, subsample=0.7,objective='multi:softmax'))])\n",
        "\n",
        "model.fit(X_train,y_train);"
      ],
      "execution_count": 13,
      "outputs": []
    },
    {
      "cell_type": "code",
      "metadata": {
        "colab": {
          "base_uri": "https://localhost:8080/"
        },
        "id": "Zy7e-5J0-S8x",
        "outputId": "043cd13c-940f-4ee6-9d74-6535882e6039"
      },
      "source": [
        "model.score(X_test,y_test)"
      ],
      "execution_count": 14,
      "outputs": [
        {
          "output_type": "execute_result",
          "data": {
            "text/plain": [
              "0.860655737704918"
            ]
          },
          "metadata": {
            "tags": []
          },
          "execution_count": 14
        }
      ]
    },
    {
      "cell_type": "markdown",
      "metadata": {
        "id": "dWnwWmqh-hoZ"
      },
      "source": [
        "## Evaluting our tuned machine learning classifier, beyond accuracy\n",
        "* ROC curve and AUC score\n",
        "* Confusion matrix\n",
        "* Classification report\n",
        "* Precision\n",
        "* Recall\n",
        "* F1-score\n",
        "... and it would be great if cross-validation was used where possible.\n",
        "\n"
      ]
    },
    {
      "cell_type": "code",
      "metadata": {
        "id": "Zhb2U0Va_BEp"
      },
      "source": [
        "from sklearn.model_selection import train_test_split\n",
        "from sklearn.metrics import confusion_matrix, classification_report"
      ],
      "execution_count": 15,
      "outputs": []
    },
    {
      "cell_type": "markdown",
      "metadata": {
        "id": "nykFWhnR-0Aw"
      },
      "source": [
        "To make comparisons and evaluate our trained model, first we need to make predictions."
      ]
    },
    {
      "cell_type": "code",
      "metadata": {
        "id": "idNOZtec_g7q"
      },
      "source": [
        "y_preds = model.predict(X_test)"
      ],
      "execution_count": 16,
      "outputs": []
    },
    {
      "cell_type": "code",
      "metadata": {
        "colab": {
          "base_uri": "https://localhost:8080/"
        },
        "id": "resEuccP_5AF",
        "outputId": "d1e07e5d-b9f7-4aad-cd08-b819ee76b6d3"
      },
      "source": [
        "confusion_matrix(y_test,y_preds)"
      ],
      "execution_count": 17,
      "outputs": [
        {
          "output_type": "execute_result",
          "data": {
            "text/plain": [
              "array([[18,  0,  0,  0,  0,  0,  0,  1,  0,  1,  0,  2,  0],\n",
              "       [ 0, 16,  1,  0,  0,  0,  0,  1,  0,  0,  2,  0,  0],\n",
              "       [ 0,  0, 15,  0,  0,  1,  0,  0,  0,  1,  0,  0,  0],\n",
              "       [ 0,  0,  0, 20,  0,  0,  0,  0,  0,  0,  0,  0,  0],\n",
              "       [ 0,  1,  0,  0, 22,  1,  0,  1,  2,  0,  0,  0,  0],\n",
              "       [ 0,  0,  0,  0,  1, 16,  0,  1,  1,  0,  1,  0,  0],\n",
              "       [ 0,  0,  0,  0,  0,  0, 21,  0,  0,  0,  0,  0,  0],\n",
              "       [ 0,  0,  0,  1,  0,  0,  0, 20,  1,  0,  0,  0,  0],\n",
              "       [ 0,  0,  1,  1,  0,  0,  0,  2, 15,  0,  0,  1,  0],\n",
              "       [ 0,  1,  0,  0,  0,  0,  0,  0,  0, 14,  0,  0,  0],\n",
              "       [ 0,  0,  1,  0,  1,  0,  0,  0,  0,  0, 20,  0,  0],\n",
              "       [ 0,  1,  0,  0,  1,  0,  0,  0,  1,  1,  1, 10,  0],\n",
              "       [ 0,  0,  0,  0,  0,  0,  0,  0,  0,  0,  0,  0,  3]])"
            ]
          },
          "metadata": {
            "tags": []
          },
          "execution_count": 17
        }
      ]
    },
    {
      "cell_type": "code",
      "metadata": {
        "colab": {
          "base_uri": "https://localhost:8080/",
          "height": 352
        },
        "id": "6kCst-fo_76K",
        "outputId": "7eea8fe9-36cf-4ebe-f6ca-688b97fd2200"
      },
      "source": [
        "sns.set(font_scale=1.5)\n",
        "\n",
        "def plot_conf_mat(conf_mat):\n",
        "    '''\n",
        "    Plot Confusion matrix.\n",
        "    '''\n",
        "    \n",
        "    fig, ax = plt.subplots(figsize = (5,5))\n",
        "    \n",
        "    ax = sns.heatmap(conf_mat, annot =True,\n",
        "                     cbar = False)\n",
        "    plt.xlabel('True label')\n",
        "    plt.ylabel('Predicted label')\n",
        "    plt.show()\n",
        "conf_mat = confusion_matrix(y_test, y_preds)\n",
        "plot_conf_mat(conf_mat)"
      ],
      "execution_count": 18,
      "outputs": [
        {
          "output_type": "display_data",
          "data": {
            "image/png": "[encoded data removed]",
            "text/plain": [
              "<Figure size 360x360 with 1 Axes>"
            ]
          },
          "metadata": {
            "tags": []
          }
        }
      ]
    },
    {
      "cell_type": "code",
      "metadata": {
        "id": "FhNOeMDdchPZ",
        "outputId": "42c19cd3-35e6-4a51-e54c-e808639d3d91",
        "colab": {
          "base_uri": "https://localhost:8080/"
        }
      },
      "source": [
        "print(classification_report(y_test, y_preds))"
      ],
      "execution_count": 19,
      "outputs": [
        {
          "output_type": "stream",
          "text": [
            "                    precision    recall  f1-score   support\n",
            "\n",
            "               AMA       1.00      0.82      0.90        22\n",
            "          AskIndia       0.84      0.80      0.82        20\n",
            "  Business/Finance       0.83      0.88      0.86        17\n",
            "       Coronavirus       0.91      1.00      0.95        20\n",
            "              Food       0.88      0.81      0.85        27\n",
            "     Non-Political       0.89      0.80      0.84        20\n",
            "       Photography       1.00      1.00      1.00        21\n",
            "    Policy/Economy       0.77      0.91      0.83        22\n",
            "          Politics       0.75      0.75      0.75        20\n",
            "         Scheduled       0.82      0.93      0.87        15\n",
            "Science/Technology       0.83      0.91      0.87        22\n",
            "            Sports       0.77      0.67      0.71        15\n",
            "     [R]eddiquette       1.00      1.00      1.00         3\n",
            "\n",
            "          accuracy                           0.86       244\n",
            "         macro avg       0.87      0.87      0.87       244\n",
            "      weighted avg       0.86      0.86      0.86       244\n",
            "\n"
          ],
          "name": "stdout"
        }
      ]
    },
    {
      "cell_type": "markdown",
      "metadata": {
        "id": "OtgGPRQ8BraW"
      },
      "source": [
        "## Saving a Machine learning model\n"
      ]
    },
    {
      "cell_type": "code",
      "metadata": {
        "id": "qPkFAou2AMtU"
      },
      "source": [
        "import pickle\n",
        "\n",
        "pickle.dump(model,open('final_model.pkl -1','wb'))"
      ],
      "execution_count": 20,
      "outputs": []
    },
    {
      "cell_type": "markdown",
      "metadata": {
        "id": "yWueauuggCqd"
      },
      "source": [
        "## Before deploying the model to webiste first let's check the prediction"
      ]
    },
    {
      "cell_type": "markdown",
      "metadata": {
        "id": "tZCPIT98jobQ"
      },
      "source": [
        "loading the model and all the files\n"
      ]
    },
    {
      "cell_type": "code",
      "metadata": {
        "id": "Y6VVS1_eXqlp"
      },
      "source": [
        "final_model = pickle.load(open('final_model.pkl -1','rb'))"
      ],
      "execution_count": 21,
      "outputs": []
    },
    {
      "cell_type": "code",
      "metadata": {
        "id": "TsmP7pxjkTFf",
        "outputId": "ba23f1d9-e9c2-4f3a-84fe-c61d4ba3fb1c",
        "colab": {
          "base_uri": "https://localhost:8080/"
        }
      },
      "source": [
        "!pip install praw"
      ],
      "execution_count": 22,
      "outputs": [
        {
          "output_type": "stream",
          "text": [
            "Collecting praw\n",
            "\u001b[?25l  Downloading https://files.pythonhosted.org/packages/2c/15/4bcc44271afce0316c73cd2ed35f951f1363a07d4d5d5440ae5eb2baad78/praw-7.1.0-py3-none-any.whl (152kB)\n",
            "\r\u001b[K     |██▏                             | 10kB 17.7MB/s eta 0:00:01\r\u001b[K     |████▎                           | 20kB 18.5MB/s eta 0:00:01\r\u001b[K     |██████▌                         | 30kB 11.9MB/s eta 0:00:01\r\u001b[K     |████████▋                       | 40kB 8.9MB/s eta 0:00:01\r\u001b[K     |██████████▊                     | 51kB 4.4MB/s eta 0:00:01\r\u001b[K     |█████████████                   | 61kB 4.9MB/s eta 0:00:01\r\u001b[K     |███████████████                 | 71kB 5.1MB/s eta 0:00:01\r\u001b[K     |█████████████████▎              | 81kB 5.3MB/s eta 0:00:01\r\u001b[K     |███████████████████▍            | 92kB 5.0MB/s eta 0:00:01\r\u001b[K     |█████████████████████▌          | 102kB 5.5MB/s eta 0:00:01\r\u001b[K     |███████████████████████▊        | 112kB 5.5MB/s eta 0:00:01\r\u001b[K     |█████████████████████████▉      | 122kB 5.5MB/s eta 0:00:01\r\u001b[K     |████████████████████████████    | 133kB 5.5MB/s eta 0:00:01\r\u001b[K     |██████████████████████████████▏ | 143kB 5.5MB/s eta 0:00:01\r\u001b[K     |████████████████████████████████| 153kB 5.5MB/s \n",
            "\u001b[?25hCollecting update-checker>=0.17\n",
            "  Downloading https://files.pythonhosted.org/packages/0c/ba/8dd7fa5f0b1c6a8ac62f8f57f7e794160c1f86f31c6d0fb00f582372a3e4/update_checker-0.18.0-py3-none-any.whl\n",
            "Collecting prawcore<2.0,>=1.3.0\n",
            "  Downloading https://files.pythonhosted.org/packages/1d/40/b741437ce4c7b64f928513817b29c0a615efb66ab5e5e01f66fe92d2d95b/prawcore-1.5.0-py3-none-any.whl\n",
            "Collecting websocket-client>=0.54.0\n",
            "\u001b[?25l  Downloading https://files.pythonhosted.org/packages/4c/5f/f61b420143ed1c8dc69f9eaec5ff1ac36109d52c80de49d66e0c36c3dfdf/websocket_client-0.57.0-py2.py3-none-any.whl (200kB)\n",
            "\u001b[K     |████████████████████████████████| 204kB 36.5MB/s \n",
            "\u001b[?25hRequirement already satisfied: requests>=2.3.0 in /usr/local/lib/python3.6/dist-packages (from update-checker>=0.17->praw) (2.23.0)\n",
            "Requirement already satisfied: six in /usr/local/lib/python3.6/dist-packages (from websocket-client>=0.54.0->praw) (1.15.0)\n",
            "Requirement already satisfied: certifi>=2017.4.17 in /usr/local/lib/python3.6/dist-packages (from requests>=2.3.0->update-checker>=0.17->praw) (2020.11.8)\n",
            "Requirement already satisfied: chardet<4,>=3.0.2 in /usr/local/lib/python3.6/dist-packages (from requests>=2.3.0->update-checker>=0.17->praw) (3.0.4)\n",
            "Requirement already satisfied: urllib3!=1.25.0,!=1.25.1,<1.26,>=1.21.1 in /usr/local/lib/python3.6/dist-packages (from requests>=2.3.0->update-checker>=0.17->praw) (1.24.3)\n",
            "Requirement already satisfied: idna<3,>=2.5 in /usr/local/lib/python3.6/dist-packages (from requests>=2.3.0->update-checker>=0.17->praw) (2.10)\n",
            "Installing collected packages: update-checker, prawcore, websocket-client, praw\n",
            "Successfully installed praw-7.1.0 prawcore-1.5.0 update-checker-0.18.0 websocket-client-0.57.0\n"
          ],
          "name": "stdout"
        }
      ]
    },
    {
      "cell_type": "code",
      "metadata": {
        "id": "0N7cQBTYkVjm",
        "outputId": "6401e5dd-33bc-45ec-c247-2ffa77f4aade",
        "colab": {
          "base_uri": "https://localhost:8080/"
        }
      },
      "source": [
        "import praw\n",
        "import numpy as np \n",
        "import pandas as pd\n",
        "import re\n",
        "import nltk\n",
        "from nltk.corpus import stopwords\n",
        "import datetime as dt\n",
        "nltk.download('all')\n",
        "from bs4 import BeautifulSoup"
      ],
      "execution_count": 23,
      "outputs": [
        {
          "output_type": "stream",
          "text": [
            "[nltk_data] Downloading collection 'all'\n",
            "[nltk_data]    | \n",
            "[nltk_data]    | Downloading package abc to /root/nltk_data...\n",
            "[nltk_data]    |   Unzipping corpora/abc.zip.\n",
            "[nltk_data]    | Downloading package alpino to /root/nltk_data...\n",
            "[nltk_data]    |   Unzipping corpora/alpino.zip.\n",
            "[nltk_data]    | Downloading package biocreative_ppi to\n",
            "[nltk_data]    |     /root/nltk_data...\n",
            "[nltk_data]    |   Unzipping corpora/biocreative_ppi.zip.\n",
            "[nltk_data]    | Downloading package brown to /root/nltk_data...\n",
            "[nltk_data]    |   Unzipping corpora/brown.zip.\n",
            "[nltk_data]    | Downloading package brown_tei to /root/nltk_data...\n",
            "[nltk_data]    |   Unzipping corpora/brown_tei.zip.\n",
            "[nltk_data]    | Downloading package cess_cat to /root/nltk_data...\n",
            "[nltk_data]    |   Unzipping corpora/cess_cat.zip.\n",
            "[nltk_data]    | Downloading package cess_esp to /root/nltk_data...\n",
            "[nltk_data]    |   Unzipping corpora/cess_esp.zip.\n",
            "[nltk_data]    | Downloading package chat80 to /root/nltk_data...\n",
            "[nltk_data]    |   Unzipping corpora/chat80.zip.\n",
            "[nltk_data]    | Downloading package city_database to\n",
            "[nltk_data]    |     /root/nltk_data...\n",
            "[nltk_data]    |   Unzipping corpora/city_database.zip.\n",
            "[nltk_data]    | Downloading package cmudict to /root/nltk_data...\n",
            "[nltk_data]    |   Unzipping corpora/cmudict.zip.\n",
            "[nltk_data]    | Downloading package comparative_sentences to\n",
            "[nltk_data]    |     /root/nltk_data...\n",
            "[nltk_data]    |   Unzipping corpora/comparative_sentences.zip.\n",
            "[nltk_data]    | Downloading package comtrans to /root/nltk_data...\n",
            "[nltk_data]    | Downloading package conll2000 to /root/nltk_data...\n",
            "[nltk_data]    |   Unzipping corpora/conll2000.zip.\n",
            "[nltk_data]    | Downloading package conll2002 to /root/nltk_data...\n",
            "[nltk_data]    |   Unzipping corpora/conll2002.zip.\n",
            "[nltk_data]    | Downloading package conll2007 to /root/nltk_data...\n",
            "[nltk_data]    | Downloading package crubadan to /root/nltk_data...\n",
            "[nltk_data]    |   Unzipping corpora/crubadan.zip.\n",
            "[nltk_data]    | Downloading package dependency_treebank to\n",
            "[nltk_data]    |     /root/nltk_data...\n",
            "[nltk_data]    |   Unzipping corpora/dependency_treebank.zip.\n",
            "[nltk_data]    | Downloading package dolch to /root/nltk_data...\n",
            "[nltk_data]    |   Unzipping corpora/dolch.zip.\n",
            "[nltk_data]    | Downloading package europarl_raw to\n",
            "[nltk_data]    |     /root/nltk_data...\n",
            "[nltk_data]    |   Unzipping corpora/europarl_raw.zip.\n",
            "[nltk_data]    | Downloading package floresta to /root/nltk_data...\n",
            "[nltk_data]    |   Unzipping corpora/floresta.zip.\n",
            "[nltk_data]    | Downloading package framenet_v15 to\n",
            "[nltk_data]    |     /root/nltk_data...\n",
            "[nltk_data]    |   Unzipping corpora/framenet_v15.zip.\n",
            "[nltk_data]    | Downloading package framenet_v17 to\n",
            "[nltk_data]    |     /root/nltk_data...\n",
            "[nltk_data]    |   Unzipping corpora/framenet_v17.zip.\n",
            "[nltk_data]    | Downloading package gazetteers to /root/nltk_data...\n",
            "[nltk_data]    |   Unzipping corpora/gazetteers.zip.\n",
            "[nltk_data]    | Downloading package genesis to /root/nltk_data...\n",
            "[nltk_data]    |   Unzipping corpora/genesis.zip.\n",
            "[nltk_data]    | Downloading package gutenberg to /root/nltk_data...\n",
            "[nltk_data]    |   Unzipping corpora/gutenberg.zip.\n",
            "[nltk_data]    | Downloading package ieer to /root/nltk_data...\n",
            "[nltk_data]    |   Unzipping corpora/ieer.zip.\n",
            "[nltk_data]    | Downloading package inaugural to /root/nltk_data...\n",
            "[nltk_data]    |   Unzipping corpora/inaugural.zip.\n",
            "[nltk_data]    | Downloading package indian to /root/nltk_data...\n",
            "[nltk_data]    |   Unzipping corpora/indian.zip.\n",
            "[nltk_data]    | Downloading package jeita to /root/nltk_data...\n",
            "[nltk_data]    | Downloading package kimmo to /root/nltk_data...\n",
            "[nltk_data]    |   Unzipping corpora/kimmo.zip.\n",
            "[nltk_data]    | Downloading package knbc to /root/nltk_data...\n",
            "[nltk_data]    | Downloading package lin_thesaurus to\n",
            "[nltk_data]    |     /root/nltk_data...\n",
            "[nltk_data]    |   Unzipping corpora/lin_thesaurus.zip.\n",
            "[nltk_data]    | Downloading package mac_morpho to /root/nltk_data...\n",
            "[nltk_data]    |   Unzipping corpora/mac_morpho.zip.\n",
            "[nltk_data]    | Downloading package machado to /root/nltk_data...\n",
            "[nltk_data]    | Downloading package masc_tagged to /root/nltk_data...\n",
            "[nltk_data]    | Downloading package moses_sample to\n",
            "[nltk_data]    |     /root/nltk_data...\n",
            "[nltk_data]    |   Unzipping models/moses_sample.zip.\n",
            "[nltk_data]    | Downloading package movie_reviews to\n",
            "[nltk_data]    |     /root/nltk_data...\n",
            "[nltk_data]    |   Unzipping corpora/movie_reviews.zip.\n",
            "[nltk_data]    | Downloading package names to /root/nltk_data...\n",
            "[nltk_data]    |   Unzipping corpora/names.zip.\n",
            "[nltk_data]    | Downloading package nombank.1.0 to /root/nltk_data...\n",
            "[nltk_data]    | Downloading package nps_chat to /root/nltk_data...\n",
            "[nltk_data]    |   Unzipping corpora/nps_chat.zip.\n",
            "[nltk_data]    | Downloading package omw to /root/nltk_data...\n",
            "[nltk_data]    |   Unzipping corpora/omw.zip.\n",
            "[nltk_data]    | Downloading package opinion_lexicon to\n",
            "[nltk_data]    |     /root/nltk_data...\n",
            "[nltk_data]    |   Unzipping corpora/opinion_lexicon.zip.\n",
            "[nltk_data]    | Downloading package paradigms to /root/nltk_data...\n",
            "[nltk_data]    |   Unzipping corpora/paradigms.zip.\n",
            "[nltk_data]    | Downloading package pil to /root/nltk_data...\n",
            "[nltk_data]    |   Unzipping corpora/pil.zip.\n",
            "[nltk_data]    | Downloading package pl196x to /root/nltk_data...\n",
            "[nltk_data]    |   Unzipping corpora/pl196x.zip.\n",
            "[nltk_data]    | Downloading package ppattach to /root/nltk_data...\n",
            "[nltk_data]    |   Unzipping corpora/ppattach.zip.\n",
            "[nltk_data]    | Downloading package problem_reports to\n",
            "[nltk_data]    |     /root/nltk_data...\n",
            "[nltk_data]    |   Unzipping corpora/problem_reports.zip.\n",
            "[nltk_data]    | Downloading package propbank to /root/nltk_data...\n",
            "[nltk_data]    | Downloading package ptb to /root/nltk_data...\n",
            "[nltk_data]    |   Unzipping corpora/ptb.zip.\n",
            "[nltk_data]    | Downloading package product_reviews_1 to\n",
            "[nltk_data]    |     /root/nltk_data...\n",
            "[nltk_data]    |   Unzipping corpora/product_reviews_1.zip.\n",
            "[nltk_data]    | Downloading package product_reviews_2 to\n",
            "[nltk_data]    |     /root/nltk_data...\n",
            "[nltk_data]    |   Unzipping corpora/product_reviews_2.zip.\n",
            "[nltk_data]    | Downloading package pros_cons to /root/nltk_data...\n",
            "[nltk_data]    |   Unzipping corpora/pros_cons.zip.\n",
            "[nltk_data]    | Downloading package qc to /root/nltk_data...\n",
            "[nltk_data]    |   Unzipping corpora/qc.zip.\n",
            "[nltk_data]    | Downloading package reuters to /root/nltk_data...\n",
            "[nltk_data]    | Downloading package rte to /root/nltk_data...\n",
            "[nltk_data]    |   Unzipping corpora/rte.zip.\n",
            "[nltk_data]    | Downloading package semcor to /root/nltk_data...\n",
            "[nltk_data]    | Downloading package senseval to /root/nltk_data...\n",
            "[nltk_data]    |   Unzipping corpora/senseval.zip.\n",
            "[nltk_data]    | Downloading package sentiwordnet to\n",
            "[nltk_data]    |     /root/nltk_data...\n",
            "[nltk_data]    |   Unzipping corpora/sentiwordnet.zip.\n",
            "[nltk_data]    | Downloading package sentence_polarity to\n",
            "[nltk_data]    |     /root/nltk_data...\n",
            "[nltk_data]    |   Unzipping corpora/sentence_polarity.zip.\n",
            "[nltk_data]    | Downloading package shakespeare to /root/nltk_data...\n",
            "[nltk_data]    |   Unzipping corpora/shakespeare.zip.\n",
            "[nltk_data]    | Downloading package sinica_treebank to\n",
            "[nltk_data]    |     /root/nltk_data...\n",
            "[nltk_data]    |   Unzipping corpora/sinica_treebank.zip.\n",
            "[nltk_data]    | Downloading package smultron to /root/nltk_data...\n",
            "[nltk_data]    |   Unzipping corpora/smultron.zip.\n",
            "[nltk_data]    | Downloading package state_union to /root/nltk_data...\n",
            "[nltk_data]    |   Unzipping corpora/state_union.zip.\n",
            "[nltk_data]    | Downloading package stopwords to /root/nltk_data...\n",
            "[nltk_data]    |   Unzipping corpora/stopwords.zip.\n",
            "[nltk_data]    | Downloading package subjectivity to\n",
            "[nltk_data]    |     /root/nltk_data...\n",
            "[nltk_data]    |   Unzipping corpora/subjectivity.zip.\n",
            "[nltk_data]    | Downloading package swadesh to /root/nltk_data...\n",
            "[nltk_data]    |   Unzipping corpora/swadesh.zip.\n",
            "[nltk_data]    | Downloading package switchboard to /root/nltk_data...\n",
            "[nltk_data]    |   Unzipping corpora/switchboard.zip.\n",
            "[nltk_data]    | Downloading package timit to /root/nltk_data...\n",
            "[nltk_data]    |   Unzipping corpora/timit.zip.\n",
            "[nltk_data]    | Downloading package toolbox to /root/nltk_data...\n",
            "[nltk_data]    |   Unzipping corpora/toolbox.zip.\n",
            "[nltk_data]    | Downloading package treebank to /root/nltk_data...\n",
            "[nltk_data]    |   Unzipping corpora/treebank.zip.\n",
            "[nltk_data]    | Downloading package twitter_samples to\n",
            "[nltk_data]    |     /root/nltk_data...\n",
            "[nltk_data]    |   Unzipping corpora/twitter_samples.zip.\n",
            "[nltk_data]    | Downloading package udhr to /root/nltk_data...\n",
            "[nltk_data]    |   Unzipping corpora/udhr.zip.\n",
            "[nltk_data]    | Downloading package udhr2 to /root/nltk_data...\n",
            "[nltk_data]    |   Unzipping corpora/udhr2.zip.\n",
            "[nltk_data]    | Downloading package unicode_samples to\n",
            "[nltk_data]    |     /root/nltk_data...\n",
            "[nltk_data]    |   Unzipping corpora/unicode_samples.zip.\n",
            "[nltk_data]    | Downloading package universal_treebanks_v20 to\n",
            "[nltk_data]    |     /root/nltk_data...\n",
            "[nltk_data]    | Downloading package verbnet to /root/nltk_data...\n",
            "[nltk_data]    |   Unzipping corpora/verbnet.zip.\n",
            "[nltk_data]    | Downloading package verbnet3 to /root/nltk_data...\n",
            "[nltk_data]    |   Unzipping corpora/verbnet3.zip.\n",
            "[nltk_data]    | Downloading package webtext to /root/nltk_data...\n",
            "[nltk_data]    |   Unzipping corpora/webtext.zip.\n",
            "[nltk_data]    | Downloading package wordnet to /root/nltk_data...\n",
            "[nltk_data]    |   Unzipping corpora/wordnet.zip.\n",
            "[nltk_data]    | Downloading package wordnet_ic to /root/nltk_data...\n",
            "[nltk_data]    |   Unzipping corpora/wordnet_ic.zip.\n",
            "[nltk_data]    | Downloading package words to /root/nltk_data...\n",
            "[nltk_data]    |   Unzipping corpora/words.zip.\n",
            "[nltk_data]    | Downloading package ycoe to /root/nltk_data...\n",
            "[nltk_data]    |   Unzipping corpora/ycoe.zip.\n",
            "[nltk_data]    | Downloading package rslp to /root/nltk_data...\n",
            "[nltk_data]    |   Unzipping stemmers/rslp.zip.\n",
            "[nltk_data]    | Downloading package maxent_treebank_pos_tagger to\n",
            "[nltk_data]    |     /root/nltk_data...\n",
            "[nltk_data]    |   Unzipping taggers/maxent_treebank_pos_tagger.zip.\n",
            "[nltk_data]    | Downloading package universal_tagset to\n",
            "[nltk_data]    |     /root/nltk_data...\n",
            "[nltk_data]    |   Unzipping taggers/universal_tagset.zip.\n",
            "[nltk_data]    | Downloading package maxent_ne_chunker to\n",
            "[nltk_data]    |     /root/nltk_data...\n",
            "[nltk_data]    |   Unzipping chunkers/maxent_ne_chunker.zip.\n",
            "[nltk_data]    | Downloading package punkt to /root/nltk_data...\n",
            "[nltk_data]    |   Unzipping tokenizers/punkt.zip.\n",
            "[nltk_data]    | Downloading package book_grammars to\n",
            "[nltk_data]    |     /root/nltk_data...\n",
            "[nltk_data]    |   Unzipping grammars/book_grammars.zip.\n",
            "[nltk_data]    | Downloading package sample_grammars to\n",
            "[nltk_data]    |     /root/nltk_data...\n",
            "[nltk_data]    |   Unzipping grammars/sample_grammars.zip.\n",
            "[nltk_data]    | Downloading package spanish_grammars to\n",
            "[nltk_data]    |     /root/nltk_data...\n",
            "[nltk_data]    |   Unzipping grammars/spanish_grammars.zip.\n",
            "[nltk_data]    | Downloading package basque_grammars to\n",
            "[nltk_data]    |     /root/nltk_data...\n",
            "[nltk_data]    |   Unzipping grammars/basque_grammars.zip.\n",
            "[nltk_data]    | Downloading package large_grammars to\n",
            "[nltk_data]    |     /root/nltk_data...\n",
            "[nltk_data]    |   Unzipping grammars/large_grammars.zip.\n",
            "[nltk_data]    | Downloading package tagsets to /root/nltk_data...\n",
            "[nltk_data]    |   Unzipping help/tagsets.zip.\n",
            "[nltk_data]    | Downloading package snowball_data to\n",
            "[nltk_data]    |     /root/nltk_data...\n",
            "[nltk_data]    | Downloading package bllip_wsj_no_aux to\n",
            "[nltk_data]    |     /root/nltk_data...\n",
            "[nltk_data]    |   Unzipping models/bllip_wsj_no_aux.zip.\n",
            "[nltk_data]    | Downloading package word2vec_sample to\n",
            "[nltk_data]    |     /root/nltk_data...\n",
            "[nltk_data]    |   Unzipping models/word2vec_sample.zip.\n",
            "[nltk_data]    | Downloading package panlex_swadesh to\n",
            "[nltk_data]    |     /root/nltk_data...\n",
            "[nltk_data]    | Downloading package mte_teip5 to /root/nltk_data...\n",
            "[nltk_data]    |   Unzipping corpora/mte_teip5.zip.\n",
            "[nltk_data]    | Downloading package averaged_perceptron_tagger to\n",
            "[nltk_data]    |     /root/nltk_data...\n",
            "[nltk_data]    |   Unzipping taggers/averaged_perceptron_tagger.zip.\n",
            "[nltk_data]    | Downloading package averaged_perceptron_tagger_ru to\n",
            "[nltk_data]    |     /root/nltk_data...\n",
            "[nltk_data]    |   Unzipping\n",
            "[nltk_data]    |       taggers/averaged_perceptron_tagger_ru.zip.\n",
            "[nltk_data]    | Downloading package perluniprops to\n",
            "[nltk_data]    |     /root/nltk_data...\n",
            "[nltk_data]    |   Unzipping misc/perluniprops.zip.\n",
            "[nltk_data]    | Downloading package nonbreaking_prefixes to\n",
            "[nltk_data]    |     /root/nltk_data...\n",
            "[nltk_data]    |   Unzipping corpora/nonbreaking_prefixes.zip.\n",
            "[nltk_data]    | Downloading package vader_lexicon to\n",
            "[nltk_data]    |     /root/nltk_data...\n",
            "[nltk_data]    | Downloading package porter_test to /root/nltk_data...\n",
            "[nltk_data]    |   Unzipping stemmers/porter_test.zip.\n",
            "[nltk_data]    | Downloading package wmt15_eval to /root/nltk_data...\n",
            "[nltk_data]    |   Unzipping models/wmt15_eval.zip.\n",
            "[nltk_data]    | Downloading package mwa_ppdb to /root/nltk_data...\n",
            "[nltk_data]    |   Unzipping misc/mwa_ppdb.zip.\n",
            "[nltk_data]    | \n",
            "[nltk_data]  Done downloading collection all\n"
          ],
          "name": "stdout"
        }
      ]
    },
    {
      "cell_type": "code",
      "metadata": {
        "id": "dII-2LoClnd0"
      },
      "source": [
        "model = final_model"
      ],
      "execution_count": 24,
      "outputs": []
    },
    {
      "cell_type": "code",
      "metadata": {
        "id": "bfVOBagol6Y2"
      },
      "source": [
        "reddit = praw.Reddit(client_id='KqCyLYQgMNwp4w', client_secret='cA9UCAPiVadgs4FTsnZ3RqJUR0hROw', user_agent='Flair-Detector', \n",
        "                     username='shubhigupta09', password='flair123')"
      ],
      "execution_count": 25,
      "outputs": []
    },
    {
      "cell_type": "code",
      "metadata": {
        "id": "Rm-FvfQ-mJB7"
      },
      "source": [
        "replace_by_space = re.compile('[/(){}\\[\\]\\|@,;]')\n",
        "bad_symbols = re.compile('[^0-9a-z #+_]')\n",
        "stopWords = set(stopwords.words('english'))\n",
        "def text_cleaning(text):\n",
        "   \n",
        "    text = BeautifulSoup(text, \"lxml\").text\n",
        "    text = text.lower()\n",
        "    text = replace_by_space.sub(' ', text)\n",
        "    text = bad_symbols.sub('', text)\n",
        "    text = ' '.join(word for word in text.split() if word not in stopWords)\n",
        "    return text\n",
        "\n",
        "def string(value):\n",
        "    return str(value)"
      ],
      "execution_count": 26,
      "outputs": []
    },
    {
      "cell_type": "code",
      "metadata": {
        "id": "4lMzs_TKmUJG"
      },
      "source": [
        "def prediction(url):\n",
        "\tsubmission = reddit.submission(url = url)\n",
        "\tdata = {}\n",
        "\tdata[\"title\"] =str(submission.title)\n",
        "\tdata[\"url\"] = str(submission.url)\n",
        "\tdata[\"body\"] = str(submission.selftext)\n",
        "\n",
        "\tsubmission.comments.replace_more(limit=None)\n",
        "\tcomment = ''\n",
        "\tcount = 0\n",
        "\tfor top_level_comment in submission.comments:\n",
        "\t\tcomment = comment + ' ' + top_level_comment.body\n",
        "\t\tcount+=1\n",
        "\t\tif(count > 10):\n",
        "\t\t \tbreak\n",
        "\t\t\n",
        "\tdata[\"comment\"] = str(comment)\n",
        "\n",
        "\tdata['title'] = text_cleaning(str(data['title']))\n",
        "\tdata['body'] = text_cleaning(str(data['body']))\n",
        "\tdata['comment'] = text_cleaning(str(data['comment']))\n",
        "    \n",
        "\tcombined_features = data[\"title\"] + data[\"comment\"] + data[\"body\"] + data[\"url\"]\n",
        "\n",
        "\treturn str(model.predict([combined_features]))[2:-2]"
      ],
      "execution_count": 27,
      "outputs": []
    },
    {
      "cell_type": "code",
      "metadata": {
        "id": "NljkK01rsm4a",
        "outputId": "ae5964d6-669c-49d8-a0c9-bf2e39c99d06",
        "colab": {
          "base_uri": "https://localhost:8080/",
          "height": 35
        }
      },
      "source": [
        "prediction(\"https://www.reddit.com/r/india/comments/d1m9ld/iran_removes_antiindia_banners_from_pak_consulate/\")"
      ],
      "execution_count": 28,
      "outputs": [
        {
          "output_type": "execute_result",
          "data": {
            "application/vnd.google.colaboratory.intrinsic+json": {
              "type": "string"
            },
            "text/plain": [
              "'Sports'"
            ]
          },
          "metadata": {
            "tags": []
          },
          "execution_count": 28
        }
      ]
    },
    {
      "cell_type": "code",
      "metadata": {
        "id": "UMaEieE2sn_-"
      },
      "source": [
        ""
      ],
      "execution_count": 28,
      "outputs": []
    }
  ]
}