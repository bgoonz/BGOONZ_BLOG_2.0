{
 "cells": [
  {
   "cell_type": "markdown",
   "metadata": {},
   "source": [
    "## Data Exploration (exploratory data analysis or EDA)\n",
    "\n",
    "The goal here is to find out more about the data and become a subject matter export on the dataset you're working with. \n",
    "\n",
    "1. What question(s) are you trying to solve?\n",
    "2. What kind of data do we have and how do we treat different types?\n",
    "3. What's missing from the data and how do you deal with it?\n",
    "4. Where are the outliers and why should you care about them?\n",
    "5. How can you add, change or remove features to get more out of your data?`\n"
   ]
  },
  {
   "cell_type": "code",
   "execution_count": 1,
   "metadata": {},
   "outputs": [],
   "source": [
    "import pandas as pd \n",
    "import numpy as np\n",
    "import matplotlib.pyplot as plt\n",
    "import seaborn as sns"
   ]
  },
  {
   "cell_type": "code",
   "execution_count": 2,
   "metadata": {},
   "outputs": [],
   "source": [
    "data = pd.read_csv(\"data.csv\")"
   ]
  },
  {
   "cell_type": "code",
   "execution_count": 3,
   "metadata": {},
   "outputs": [
    {
     "data": {
      "text/plain": [
       "(1216, 11)"
      ]
     },
     "execution_count": 3,
     "metadata": {},
     "output_type": "execute_result"
    }
   ],
   "source": [
    "data.shape"
   ]
  },
  {
   "cell_type": "code",
   "execution_count": 4,
   "metadata": {},
   "outputs": [
    {
     "data": {
      "text/html": [
       "<div>\n",
       "<style scoped>\n",
       "    .dataframe tbody tr th:only-of-type {\n",
       "        vertical-align: middle;\n",
       "    }\n",
       "\n",
       "    .dataframe tbody tr th {\n",
       "        vertical-align: top;\n",
       "    }\n",
       "\n",
       "    .dataframe thead th {\n",
       "        text-align: right;\n",
       "    }\n",
       "</style>\n",
       "<table border=\"1\" class=\"dataframe\">\n",
       "  <thead>\n",
       "    <tr style=\"text-align: right;\">\n",
       "      <th></th>\n",
       "      <th>title</th>\n",
       "      <th>id</th>\n",
       "      <th>score</th>\n",
       "      <th>url</th>\n",
       "      <th>num_of_comments</th>\n",
       "      <th>body</th>\n",
       "      <th>author</th>\n",
       "      <th>comments</th>\n",
       "      <th>flair</th>\n",
       "      <th>timestamp</th>\n",
       "      <th>combined_features</th>\n",
       "    </tr>\n",
       "  </thead>\n",
       "  <tbody>\n",
       "    <tr>\n",
       "      <th>0</th>\n",
       "      <td>gelatine available</td>\n",
       "      <td>jk9zlt</td>\n",
       "      <td>0</td>\n",
       "      <td>https://www.reddit.com/r/india/comments/jk9zlt...</td>\n",
       "      <td>4</td>\n",
       "      <td>wish buy gelatine looking cheapest local price...</td>\n",
       "      <td>csstudentG</td>\n",
       "      <td>available regular kirana stores usually kept r...</td>\n",
       "      <td>AskIndia</td>\n",
       "      <td>2020-10-29 21:26:38</td>\n",
       "      <td>gelatine availableavailable regular kirana sto...</td>\n",
       "    </tr>\n",
       "    <tr>\n",
       "      <th>1</th>\n",
       "      <td>trevor noah jokes indo pak tensions seriousnes...</td>\n",
       "      <td>gv9lmh</td>\n",
       "      <td>37</td>\n",
       "      <td>https://www.reddit.com/r/india/comments/gv9lmh...</td>\n",
       "      <td>29</td>\n",
       "      <td>really watch much trevor noah late night show ...</td>\n",
       "      <td>CommYouNitty</td>\n",
       "      <td>mostly country really matter lives pretty chea...</td>\n",
       "      <td>AskIndia</td>\n",
       "      <td>2020-06-02 23:42:24</td>\n",
       "      <td>trevor noah jokes indo pak tensions seriousnes...</td>\n",
       "    </tr>\n",
       "    <tr>\n",
       "      <th>2</th>\n",
       "      <td>buying used bs4 scooty april 1 issues registra...</td>\n",
       "      <td>hpqq5o</td>\n",
       "      <td>11</td>\n",
       "      <td>https://www.reddit.com/r/india/comments/hpqq5o...</td>\n",
       "      <td>7</td>\n",
       "      <td>know right place ask askindia asking saw artic...</td>\n",
       "      <td>akza07</td>\n",
       "      <td>scammers keep scamming applies new vehicles bu...</td>\n",
       "      <td>AskIndia</td>\n",
       "      <td>2020-07-12 15:58:15</td>\n",
       "      <td>buying used bs4 scooty april 1 issues registra...</td>\n",
       "    </tr>\n",
       "    <tr>\n",
       "      <th>3</th>\n",
       "      <td>need feedback insurance policy took x post ask...</td>\n",
       "      <td>1s57oi</td>\n",
       "      <td>1</td>\n",
       "      <td>https://www.reddit.com/r/india/comments/1s57oi...</td>\n",
       "      <td>1</td>\n",
       "      <td>posting lack activity r askindia hello last ye...</td>\n",
       "      <td>dhavalcoholic</td>\n",
       "      <td>dear policy holder dhavalcoholic request help ...</td>\n",
       "      <td>AskIndia</td>\n",
       "      <td>2013-12-05 14:30:23</td>\n",
       "      <td>need feedback insurance policy took x post ask...</td>\n",
       "    </tr>\n",
       "    <tr>\n",
       "      <th>4</th>\n",
       "      <td>could suggest good dramedies</td>\n",
       "      <td>h7t0r2</td>\n",
       "      <td>5</td>\n",
       "      <td>https://www.reddit.com/r/india/comments/h7t0r2...</td>\n",
       "      <td>4</td>\n",
       "      <td>r askindia restricted posting sure ask hope gu...</td>\n",
       "      <td>dont_mess_with_tx</td>\n",
       "      <td>vicky donor jolly llb angoor comedy guide dram...</td>\n",
       "      <td>AskIndia</td>\n",
       "      <td>2020-06-13 04:58:52</td>\n",
       "      <td>could suggest good dramediesvicky donor jolly ...</td>\n",
       "    </tr>\n",
       "  </tbody>\n",
       "</table>\n",
       "</div>"
      ],
      "text/plain": [
       "                                               title      id  score  \\\n",
       "0                                 gelatine available  jk9zlt      0   \n",
       "1  trevor noah jokes indo pak tensions seriousnes...  gv9lmh     37   \n",
       "2  buying used bs4 scooty april 1 issues registra...  hpqq5o     11   \n",
       "3  need feedback insurance policy took x post ask...  1s57oi      1   \n",
       "4                       could suggest good dramedies  h7t0r2      5   \n",
       "\n",
       "                                                 url  num_of_comments  \\\n",
       "0  https://www.reddit.com/r/india/comments/jk9zlt...                4   \n",
       "1  https://www.reddit.com/r/india/comments/gv9lmh...               29   \n",
       "2  https://www.reddit.com/r/india/comments/hpqq5o...                7   \n",
       "3  https://www.reddit.com/r/india/comments/1s57oi...                1   \n",
       "4  https://www.reddit.com/r/india/comments/h7t0r2...                4   \n",
       "\n",
       "                                                body             author  \\\n",
       "0  wish buy gelatine looking cheapest local price...         csstudentG   \n",
       "1  really watch much trevor noah late night show ...       CommYouNitty   \n",
       "2  know right place ask askindia asking saw artic...             akza07   \n",
       "3  posting lack activity r askindia hello last ye...      dhavalcoholic   \n",
       "4  r askindia restricted posting sure ask hope gu...  dont_mess_with_tx   \n",
       "\n",
       "                                            comments     flair  \\\n",
       "0  available regular kirana stores usually kept r...  AskIndia   \n",
       "1  mostly country really matter lives pretty chea...  AskIndia   \n",
       "2  scammers keep scamming applies new vehicles bu...  AskIndia   \n",
       "3  dear policy holder dhavalcoholic request help ...  AskIndia   \n",
       "4  vicky donor jolly llb angoor comedy guide dram...  AskIndia   \n",
       "\n",
       "             timestamp                                  combined_features  \n",
       "0  2020-10-29 21:26:38  gelatine availableavailable regular kirana sto...  \n",
       "1  2020-06-02 23:42:24  trevor noah jokes indo pak tensions seriousnes...  \n",
       "2  2020-07-12 15:58:15  buying used bs4 scooty april 1 issues registra...  \n",
       "3  2013-12-05 14:30:23  need feedback insurance policy took x post ask...  \n",
       "4  2020-06-13 04:58:52  could suggest good dramediesvicky donor jolly ...  "
      ]
     },
     "execution_count": 4,
     "metadata": {},
     "output_type": "execute_result"
    }
   ],
   "source": [
    "data.head()"
   ]
  },
  {
   "cell_type": "code",
   "execution_count": 5,
   "metadata": {},
   "outputs": [
    {
     "data": {
      "text/html": [
       "<div>\n",
       "<style scoped>\n",
       "    .dataframe tbody tr th:only-of-type {\n",
       "        vertical-align: middle;\n",
       "    }\n",
       "\n",
       "    .dataframe tbody tr th {\n",
       "        vertical-align: top;\n",
       "    }\n",
       "\n",
       "    .dataframe thead th {\n",
       "        text-align: right;\n",
       "    }\n",
       "</style>\n",
       "<table border=\"1\" class=\"dataframe\">\n",
       "  <thead>\n",
       "    <tr style=\"text-align: right;\">\n",
       "      <th></th>\n",
       "      <th>title</th>\n",
       "      <th>id</th>\n",
       "      <th>score</th>\n",
       "      <th>url</th>\n",
       "      <th>num_of_comments</th>\n",
       "      <th>body</th>\n",
       "      <th>author</th>\n",
       "      <th>comments</th>\n",
       "      <th>flair</th>\n",
       "      <th>timestamp</th>\n",
       "      <th>combined_features</th>\n",
       "    </tr>\n",
       "  </thead>\n",
       "  <tbody>\n",
       "    <tr>\n",
       "      <th>1211</th>\n",
       "      <td>fact check bjp claim bihar defeated coronaviru...</td>\n",
       "      <td>j002jl</td>\n",
       "      <td>321</td>\n",
       "      <td>https://thewire.in/politics/bjp-bihar-election...</td>\n",
       "      <td>43</td>\n",
       "      <td>NaN</td>\n",
       "      <td>mubukugrappa</td>\n",
       "      <td>2021 assam set example control covid model rep...</td>\n",
       "      <td>Coronavirus</td>\n",
       "      <td>2020-09-26 13:23:26</td>\n",
       "      <td>fact check bjp claim bihar defeated coronaviru...</td>\n",
       "    </tr>\n",
       "    <tr>\n",
       "      <th>1212</th>\n",
       "      <td>india us travel</td>\n",
       "      <td>j0wucw</td>\n",
       "      <td>0</td>\n",
       "      <td>https://www.reddit.com/r/india/comments/j0wucw...</td>\n",
       "      <td>0</td>\n",
       "      <td>anyone travelled fro united states india recen...</td>\n",
       "      <td>pizzapuff93</td>\n",
       "      <td>NaN</td>\n",
       "      <td>Coronavirus</td>\n",
       "      <td>2020-09-28 03:08:39</td>\n",
       "      <td>india us travelnanhttps://www.reddit.com/r/ind...</td>\n",
       "    </tr>\n",
       "    <tr>\n",
       "      <th>1213</th>\n",
       "      <td>parents tested results</td>\n",
       "      <td>izx7aw</td>\n",
       "      <td>4</td>\n",
       "      <td>https://www.reddit.com/r/india/comments/izx7aw...</td>\n",
       "      <td>1</td>\n",
       "      <td>father pa became coronavirus positive dad mom ...</td>\n",
       "      <td>spddgr8</td>\n",
       "      <td>tn apparently bother contacting negative</td>\n",
       "      <td>Coronavirus</td>\n",
       "      <td>2020-09-26 10:12:50</td>\n",
       "      <td>parents tested resultstn apparently bother con...</td>\n",
       "    </tr>\n",
       "    <tr>\n",
       "      <th>1214</th>\n",
       "      <td>hey fellow indians wanted remind half year day...</td>\n",
       "      <td>ix6pl0</td>\n",
       "      <td>1019</td>\n",
       "      <td>https://www.reddit.com/gallery/ix6pl0</td>\n",
       "      <td>153</td>\n",
       "      <td>NaN</td>\n",
       "      <td>IndianPuppy</td>\n",
       "      <td>saying curfew ended people indore went outdoor...</td>\n",
       "      <td>Coronavirus</td>\n",
       "      <td>2020-09-22 02:55:01</td>\n",
       "      <td>hey fellow indians wanted remind half year day...</td>\n",
       "    </tr>\n",
       "    <tr>\n",
       "      <th>1215</th>\n",
       "      <td>india secrecy narendra modi coronavirus relief...</td>\n",
       "      <td>iwafpe</td>\n",
       "      <td>293</td>\n",
       "      <td>https://theconversation.com/india-why-secrecy-...</td>\n",
       "      <td>9</td>\n",
       "      <td>NaN</td>\n",
       "      <td>9kSs</td>\n",
       "      <td>secrecy narendra modi coronavirus relief fund ...</td>\n",
       "      <td>Coronavirus</td>\n",
       "      <td>2020-09-20 16:56:43</td>\n",
       "      <td>india secrecy narendra modi coronavirus relief...</td>\n",
       "    </tr>\n",
       "  </tbody>\n",
       "</table>\n",
       "</div>"
      ],
      "text/plain": [
       "                                                  title      id  score  \\\n",
       "1211  fact check bjp claim bihar defeated coronaviru...  j002jl    321   \n",
       "1212                                    india us travel  j0wucw      0   \n",
       "1213                             parents tested results  izx7aw      4   \n",
       "1214  hey fellow indians wanted remind half year day...  ix6pl0   1019   \n",
       "1215  india secrecy narendra modi coronavirus relief...  iwafpe    293   \n",
       "\n",
       "                                                    url  num_of_comments  \\\n",
       "1211  https://thewire.in/politics/bjp-bihar-election...               43   \n",
       "1212  https://www.reddit.com/r/india/comments/j0wucw...                0   \n",
       "1213  https://www.reddit.com/r/india/comments/izx7aw...                1   \n",
       "1214              https://www.reddit.com/gallery/ix6pl0              153   \n",
       "1215  https://theconversation.com/india-why-secrecy-...                9   \n",
       "\n",
       "                                                   body        author  \\\n",
       "1211                                                NaN  mubukugrappa   \n",
       "1212  anyone travelled fro united states india recen...   pizzapuff93   \n",
       "1213  father pa became coronavirus positive dad mom ...       spddgr8   \n",
       "1214                                                NaN   IndianPuppy   \n",
       "1215                                                NaN          9kSs   \n",
       "\n",
       "                                               comments        flair  \\\n",
       "1211  2021 assam set example control covid model rep...  Coronavirus   \n",
       "1212                                                NaN  Coronavirus   \n",
       "1213           tn apparently bother contacting negative  Coronavirus   \n",
       "1214  saying curfew ended people indore went outdoor...  Coronavirus   \n",
       "1215  secrecy narendra modi coronavirus relief fund ...  Coronavirus   \n",
       "\n",
       "                timestamp                                  combined_features  \n",
       "1211  2020-09-26 13:23:26  fact check bjp claim bihar defeated coronaviru...  \n",
       "1212  2020-09-28 03:08:39  india us travelnanhttps://www.reddit.com/r/ind...  \n",
       "1213  2020-09-26 10:12:50  parents tested resultstn apparently bother con...  \n",
       "1214  2020-09-22 02:55:01  hey fellow indians wanted remind half year day...  \n",
       "1215  2020-09-20 16:56:43  india secrecy narendra modi coronavirus relief...  "
      ]
     },
     "execution_count": 5,
     "metadata": {},
     "output_type": "execute_result"
    }
   ],
   "source": [
    "data.tail()"
   ]
  },
  {
   "cell_type": "markdown",
   "metadata": {},
   "source": [
    "## Diving deep into the data to know more about it"
   ]
  },
  {
   "cell_type": "code",
   "execution_count": 6,
   "metadata": {},
   "outputs": [
    {
     "data": {
      "text/plain": [
       "Policy/Economy        100\n",
       "Photography           100\n",
       "AskIndia              100\n",
       "Coronavirus           100\n",
       "Non-Political         100\n",
       "Business/Finance      100\n",
       "Science/Technology    100\n",
       "Sports                100\n",
       "AMA                   100\n",
       "Food                  100\n",
       "Scheduled             100\n",
       "Politics              100\n",
       "[R]eddiquette          16\n",
       "Name: flair, dtype: int64"
      ]
     },
     "execution_count": 6,
     "metadata": {},
     "output_type": "execute_result"
    }
   ],
   "source": [
    "data['flair'].value_counts()"
   ]
  },
  {
   "cell_type": "code",
   "execution_count": 7,
   "metadata": {},
   "outputs": [
    {
     "data": {
      "image/png": "[encoded data removed]",
      "text/plain": [
       "<Figure size 432x288 with 1 Axes>"
      ]
     },
     "metadata": {
      "needs_background": "light"
     },
     "output_type": "display_data"
    }
   ],
   "source": [
    "data['flair'].value_counts().plot(kind = 'bar');"
   ]
  },
  {
   "cell_type": "code",
   "execution_count": 8,
   "metadata": {},
   "outputs": [
    {
     "name": "stdout",
     "output_type": "stream",
     "text": [
      "<class 'pandas.core.frame.DataFrame'>\n",
      "RangeIndex: 1216 entries, 0 to 1215\n",
      "Data columns (total 11 columns):\n",
      " #   Column             Non-Null Count  Dtype \n",
      "---  ------             --------------  ----- \n",
      " 0   title              1216 non-null   object\n",
      " 1   id                 1216 non-null   object\n",
      " 2   score              1216 non-null   int64 \n",
      " 3   url                1216 non-null   object\n",
      " 4   num_of_comments    1216 non-null   int64 \n",
      " 5   body               733 non-null    object\n",
      " 6   author             1216 non-null   object\n",
      " 7   comments           1103 non-null   object\n",
      " 8   flair              1216 non-null   object\n",
      " 9   timestamp          1216 non-null   object\n",
      " 10  combined_features  1216 non-null   object\n",
      "dtypes: int64(2), object(9)\n",
      "memory usage: 104.6+ KB\n"
     ]
    }
   ],
   "source": [
    "data.info()"
   ]
  },
  {
   "cell_type": "code",
   "execution_count": 9,
   "metadata": {},
   "outputs": [
    {
     "data": {
      "text/plain": [
       "title                  0\n",
       "id                     0\n",
       "score                  0\n",
       "url                    0\n",
       "num_of_comments        0\n",
       "body                 483\n",
       "author                 0\n",
       "comments             113\n",
       "flair                  0\n",
       "timestamp              0\n",
       "combined_features      0\n",
       "dtype: int64"
      ]
     },
     "execution_count": 9,
     "metadata": {},
     "output_type": "execute_result"
    }
   ],
   "source": [
    "data.isna().sum()"
   ]
  },
  {
   "cell_type": "code",
   "execution_count": 10,
   "metadata": {},
   "outputs": [],
   "source": [
    "y = data.columns\n",
    "x = data.count()"
   ]
  },
  {
   "cell_type": "code",
   "execution_count": 11,
   "metadata": {},
   "outputs": [
    {
     "data": {
      "image/png": "[encoded data removed]",
      "text/plain": [
       "<Figure size 432x288 with 1 Axes>"
      ]
     },
     "metadata": {
      "needs_background": "light"
     },
     "output_type": "display_data"
    }
   ],
   "source": [
    "fig = plt.figure()\n",
    "ax = fig.add_axes([0,0,1,1])\n",
    "ax.bar(y,x)\n",
    "plt.xticks(rotation=90)\n",
    "plt.savefig('value.png', dpi=300, bbox_inches='tight')\n",
    "plt.show()"
   ]
  },
  {
   "cell_type": "code",
   "execution_count": 12,
   "metadata": {},
   "outputs": [
    {
     "data": {
      "text/html": [
       "<div>\n",
       "<style scoped>\n",
       "    .dataframe tbody tr th:only-of-type {\n",
       "        vertical-align: middle;\n",
       "    }\n",
       "\n",
       "    .dataframe tbody tr th {\n",
       "        vertical-align: top;\n",
       "    }\n",
       "\n",
       "    .dataframe thead th {\n",
       "        text-align: right;\n",
       "    }\n",
       "</style>\n",
       "<table border=\"1\" class=\"dataframe\">\n",
       "  <thead>\n",
       "    <tr style=\"text-align: right;\">\n",
       "      <th></th>\n",
       "      <th>score</th>\n",
       "      <th>num_of_comments</th>\n",
       "    </tr>\n",
       "  </thead>\n",
       "  <tbody>\n",
       "    <tr>\n",
       "      <th>count</th>\n",
       "      <td>1216.000000</td>\n",
       "      <td>1216.000000</td>\n",
       "    </tr>\n",
       "    <tr>\n",
       "      <th>mean</th>\n",
       "      <td>229.009046</td>\n",
       "      <td>50.039474</td>\n",
       "    </tr>\n",
       "    <tr>\n",
       "      <th>std</th>\n",
       "      <td>919.346846</td>\n",
       "      <td>181.467094</td>\n",
       "    </tr>\n",
       "    <tr>\n",
       "      <th>min</th>\n",
       "      <td>0.000000</td>\n",
       "      <td>0.000000</td>\n",
       "    </tr>\n",
       "    <tr>\n",
       "      <th>25%</th>\n",
       "      <td>8.000000</td>\n",
       "      <td>3.000000</td>\n",
       "    </tr>\n",
       "    <tr>\n",
       "      <th>50%</th>\n",
       "      <td>28.500000</td>\n",
       "      <td>11.000000</td>\n",
       "    </tr>\n",
       "    <tr>\n",
       "      <th>75%</th>\n",
       "      <td>122.500000</td>\n",
       "      <td>39.250000</td>\n",
       "    </tr>\n",
       "    <tr>\n",
       "      <th>max</th>\n",
       "      <td>18853.000000</td>\n",
       "      <td>4166.000000</td>\n",
       "    </tr>\n",
       "  </tbody>\n",
       "</table>\n",
       "</div>"
      ],
      "text/plain": [
       "              score  num_of_comments\n",
       "count   1216.000000      1216.000000\n",
       "mean     229.009046        50.039474\n",
       "std      919.346846       181.467094\n",
       "min        0.000000         0.000000\n",
       "25%        8.000000         3.000000\n",
       "50%       28.500000        11.000000\n",
       "75%      122.500000        39.250000\n",
       "max    18853.000000      4166.000000"
      ]
     },
     "execution_count": 12,
     "metadata": {},
     "output_type": "execute_result"
    }
   ],
   "source": [
    "data.describe()"
   ]
  },
  {
   "cell_type": "code",
   "execution_count": 13,
   "metadata": {},
   "outputs": [
    {
     "data": {
      "text/html": [
       "<div>\n",
       "<style scoped>\n",
       "    .dataframe tbody tr th:only-of-type {\n",
       "        vertical-align: middle;\n",
       "    }\n",
       "\n",
       "    .dataframe tbody tr th {\n",
       "        vertical-align: top;\n",
       "    }\n",
       "\n",
       "    .dataframe thead th {\n",
       "        text-align: right;\n",
       "    }\n",
       "</style>\n",
       "<table border=\"1\" class=\"dataframe\">\n",
       "  <thead>\n",
       "    <tr style=\"text-align: right;\">\n",
       "      <th></th>\n",
       "      <th>score</th>\n",
       "      <th>num_of_comments</th>\n",
       "    </tr>\n",
       "  </thead>\n",
       "  <tbody>\n",
       "    <tr>\n",
       "      <th>score</th>\n",
       "      <td>1.000000</td>\n",
       "      <td>0.639001</td>\n",
       "    </tr>\n",
       "    <tr>\n",
       "      <th>num_of_comments</th>\n",
       "      <td>0.639001</td>\n",
       "      <td>1.000000</td>\n",
       "    </tr>\n",
       "  </tbody>\n",
       "</table>\n",
       "</div>"
      ],
      "text/plain": [
       "                    score  num_of_comments\n",
       "score            1.000000         0.639001\n",
       "num_of_comments  0.639001         1.000000"
      ]
     },
     "execution_count": 13,
     "metadata": {},
     "output_type": "execute_result"
    }
   ],
   "source": [
    "data.corr()"
   ]
  },
  {
   "cell_type": "code",
   "execution_count": 14,
   "metadata": {},
   "outputs": [
    {
     "data": {
      "text/plain": [
       "Index(['title', 'id', 'score', 'url', 'num_of_comments', 'body', 'author',\n",
       "       'comments', 'flair', 'timestamp', 'combined_features'],\n",
       "      dtype='object')"
      ]
     },
     "execution_count": 14,
     "metadata": {},
     "output_type": "execute_result"
    }
   ],
   "source": [
    "data.columns"
   ]
  },
  {
   "cell_type": "markdown",
   "metadata": {},
   "source": [
    "## Visualising the data on the basis of data entry"
   ]
  },
  {
   "cell_type": "code",
   "execution_count": 15,
   "metadata": {},
   "outputs": [
    {
     "data": {
      "text/plain": [
       "<matplotlib.collections.PathCollection at 0x7fe41aeacdf0>"
      ]
     },
     "execution_count": 15,
     "metadata": {},
     "output_type": "execute_result"
    },
    {
     "data": {
      "image/png": "[encoded data removed]",
      "text/plain": [
       "<Figure size 432x288 with 1 Axes>"
      ]
     },
     "metadata": {
      "needs_background": "light"
     },
     "output_type": "display_data"
    }
   ],
   "source": [
    "fig, ax = plt.subplots()\n",
    "ax.scatter(data['timestamp'][:1000], data['flair'][:1000])"
   ]
  },
  {
   "cell_type": "code",
   "execution_count": 16,
   "metadata": {},
   "outputs": [
    {
     "data": {
      "text/plain": [
       "dtype('O')"
      ]
     },
     "execution_count": 16,
     "metadata": {},
     "output_type": "execute_result"
    }
   ],
   "source": [
    "data['timestamp'].dtype"
   ]
  },
  {
   "cell_type": "code",
   "execution_count": 17,
   "metadata": {},
   "outputs": [],
   "source": [
    "data = pd.read_csv('data.csv',parse_dates=['timestamp'])"
   ]
  },
  {
   "cell_type": "code",
   "execution_count": 18,
   "metadata": {},
   "outputs": [
    {
     "data": {
      "text/plain": [
       "dtype('<M8[ns]')"
      ]
     },
     "execution_count": 18,
     "metadata": {},
     "output_type": "execute_result"
    }
   ],
   "source": [
    "data['timestamp'].dtype"
   ]
  },
  {
   "cell_type": "code",
   "execution_count": 19,
   "metadata": {},
   "outputs": [
    {
     "data": {
      "image/png": "[encoded data removed]",
      "text/plain": [
       "<Figure size 432x288 with 1 Axes>"
      ]
     },
     "metadata": {
      "needs_background": "light"
     },
     "output_type": "display_data"
    }
   ],
   "source": [
    "fig, ax = plt.subplots()\n",
    "ax.scatter(data['timestamp'][:1000], data['flair'][:1000]);"
   ]
  },
  {
   "cell_type": "markdown",
   "metadata": {},
   "source": [
    "## Visualising the span of few properties "
   ]
  },
  {
   "cell_type": "code",
   "execution_count": 20,
   "metadata": {},
   "outputs": [
    {
     "data": {
      "text/plain": [
       "0                                   gelatine available\n",
       "1    trevor noah jokes indo pak tensions seriousnes...\n",
       "2    buying used bs4 scooty april 1 issues registra...\n",
       "3    need feedback insurance policy took x post ask...\n",
       "4                         could suggest good dramedies\n",
       "5    reality check exposure western society media b...\n",
       "6                      askindia cingari cengar tzengar\n",
       "7                               truly incredible india\n",
       "8    people left 9 5 jobs pursue career music art f...\n",
       "9    4 days ago pending orders 100 million hydroxyc...\n",
       "Name: title, dtype: object"
      ]
     },
     "execution_count": 20,
     "metadata": {},
     "output_type": "execute_result"
    }
   ],
   "source": [
    "data['title'][:10]"
   ]
  },
  {
   "cell_type": "code",
   "execution_count": 21,
   "metadata": {},
   "outputs": [
    {
     "data": {
      "image/png": "[encoded data removed]",
      "text/plain": [
       "<Figure size 432x288 with 1 Axes>"
      ]
     },
     "metadata": {
      "needs_background": "light"
     },
     "output_type": "display_data"
    }
   ],
   "source": [
    "temp = data['title'].str.len()\n",
    "temp.hist(bins = np.arange(0,200,1))\n",
    "plt.title(\"no of words in TITLE\")\n",
    "plt.xlabel(\"length of Title (in words)\", fontsize=12)\n",
    "plt.ylabel(\"Number of posts\", fontsize=12)\n",
    "plt.savefig('title.png', dpi=300, bbox_inches='tight')\n",
    "plt.show()"
   ]
  },
  {
   "cell_type": "code",
   "execution_count": 22,
   "metadata": {},
   "outputs": [
    {
     "data": {
      "image/png": "[encoded data removed]",
      "text/plain": [
       "<Figure size 432x288 with 1 Axes>"
      ]
     },
     "metadata": {
      "needs_background": "light"
     },
     "output_type": "display_data"
    }
   ],
   "source": [
    "temp = data['body'].str.len()\n",
    "temp.hist(bins = np.arange(0,1000,10))\n",
    "plt.title(\"no of words in BODY\")\n",
    "plt.xlabel(\"length of BODY (in words)\")\n",
    "plt.ylabel(\"Number of posts\")\n",
    "plt.savefig('lenth of words in body.png', dpi=300, bbox_inches='tight')\n",
    "plt.show()"
   ]
  },
  {
   "cell_type": "markdown",
   "metadata": {},
   "source": [
    "## Visualising how the flairs fare according to other features"
   ]
  },
  {
   "cell_type": "code",
   "execution_count": 23,
   "metadata": {},
   "outputs": [
    {
     "data": {
      "image/png": "[encoded data removed]",
      "text/plain": [
       "<Figure size 432x288 with 1 Axes>"
      ]
     },
     "metadata": {
      "needs_background": "light"
     },
     "output_type": "display_data"
    }
   ],
   "source": [
    "temp = data.groupby(\"flair\").mean()[[\"num_of_comments\"]]\n",
    "\n",
    "temp.plot(kind='bar', legend=False, grid=True)\n",
    "plt.title(\"Average no of coments per flair\")\n",
    "\n",
    "plt.xlabel(\"Flair\")\n",
    "plt.ylabel(\"Average no of comments per post\")\n",
    "plt.savefig('comms per flair', dpi=300, bbox_inches='tight')\n",
    "plt.show()"
   ]
  },
  {
   "cell_type": "code",
   "execution_count": 24,
   "metadata": {},
   "outputs": [
    {
     "data": {
      "image/png": "[encoded data removed]",
      "text/plain": [
       "<Figure size 432x288 with 1 Axes>"
      ]
     },
     "metadata": {
      "needs_background": "light"
     },
     "output_type": "display_data"
    }
   ],
   "source": [
    "temp = data.groupby(\"flair\").mean()[['score']]\n",
    "\n",
    "temp.plot(kind='bar', legend=False, grid=True)\n",
    "plt.title(\"Average score per flair\")\n",
    "\n",
    "plt.xlabel(\"Flair\")\n",
    "plt.ylabel(\"Average score per post\")\n",
    "plt.savefig('score per flair', dpi=300, bbox_inches='tight')\n",
    "plt.show()"
   ]
  }
 ],
 "metadata": {
  "kernelspec": {
   "display_name": "Python 3",
   "language": "python",
   "name": "python3"
  },
  "language_info": {
   "codemirror_mode": {
    "name": "ipython",
    "version": 3
   },
   "file_extension": ".py",
   "mimetype": "text/x-python",
   "name": "python",
   "nbconvert_exporter": "python",
   "pygments_lexer": "ipython3",
   "version": "3.8.3"
  }
 },
 "nbformat": 4,
 "nbformat_minor": 4
}
