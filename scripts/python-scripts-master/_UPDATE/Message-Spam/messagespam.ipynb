{
  "nbformat": 4,
  "nbformat_minor": 0,
  "metadata": {
    "colab": {
      "name": "EmailSpam",
      "provenance": [],
      "collapsed_sections": []
    },
    "kernelspec": {
      "name": "python3",
      "display_name": "Python 3"
    }
  },
  "cells": [
    {
      "cell_type": "code",
      "metadata": {
        "id": "uaWxiQkShfNA"
      },
      "source": [
        "import pandas as pd\r\n",
        "from sklearn.feature_extraction.text import CountVectorizer\r\n",
        "from sklearn.naive_bayes import MultinomialNB, GaussianNB\r\n",
        "from sklearn import svm\r\n",
        "from sklearn.model_selection import GridSearchCV\r\n",
        "from sklearn.externals import joblib"
      ],
      "execution_count": null,
      "outputs": []
    },
    {
      "cell_type": "code",
      "metadata": {
        "colab": {
          "base_uri": "https://localhost:8080/"
        },
        "id": "itNUZqq6h2nf",
        "outputId": "2004652d-9423-49b1-efdf-a70320571e14"
      },
      "source": [
        "dataframe = pd.read_csv(\"spam.csv\")\r\n",
        "print(dataframe.describe())"
      ],
      "execution_count": null,
      "outputs": [
        {
          "output_type": "stream",
          "text": [
            "       Label               EmailText\n",
            "count   5572                    5572\n",
            "unique     2                    5169\n",
            "top      ham  Sorry, I'll call later\n",
            "freq    4825                      30\n"
          ],
          "name": "stdout"
        }
      ]
    },
    {
      "cell_type": "code",
      "metadata": {
        "id": "h10NUQBNh_O1"
      },
      "source": [
        "x = dataframe[\"EmailText\"]\r\n",
        "y = dataframe[\"Label\"]"
      ],
      "execution_count": null,
      "outputs": []
    },
    {
      "cell_type": "code",
      "metadata": {
        "id": "kUzSKCRMiHK8"
      },
      "source": [
        "x_train,y_train = x[0:4457],y[0:4457]\r\n",
        "x_test,y_test = x[4457:],y[4457:]"
      ],
      "execution_count": null,
      "outputs": []
    },
    {
      "cell_type": "code",
      "metadata": {
        "colab": {
          "base_uri": "https://localhost:8080/"
        },
        "id": "9eSOLPsbiIC0",
        "outputId": "a3948b6d-4a28-4c1b-ecbc-056185ee5567"
      },
      "source": [
        "cv = CountVectorizer()  \r\n",
        "features = cv.fit_transform(x_train)\r\n",
        "\r\n",
        "\r\n",
        "tuned_parameters = {'kernel': ['rbf','linear'], 'gamma': [1e-3, 1e-4],\r\n",
        "                     'C': [1, 10, 100, 1000]}\r\n",
        "\r\n",
        "model = GridSearchCV(svm.SVC(), tuned_parameters)\r\n",
        "\r\n",
        "model.fit(features,y_train)\r\n",
        "\r\n",
        "\r\n",
        "print(model.best_params_)\r\n",
        "\r\n",
        "print(model.score(cv.transform(x_test),y_test))"
      ],
      "execution_count": null,
      "outputs": [
        {
          "output_type": "stream",
          "text": [
            "{'C': 100, 'gamma': 0.001, 'kernel': 'rbf'}\n",
            "0.9874439461883409\n"
          ],
          "name": "stdout"
        }
      ]
    },
    {
      "cell_type": "code",
      "metadata": {
        "colab": {
          "base_uri": "https://localhost:8080/"
        },
        "id": "5G-vTlq5jJOm",
        "outputId": "226b896c-bbb4-4904-8ab6-c9f3d433e86c"
      },
      "source": [
        "joblib.dump(model.best_estimator_, 'filename.pkl', compress = 1)"
      ],
      "execution_count": null,
      "outputs": [
        {
          "output_type": "execute_result",
          "data": {
            "text/plain": [
              "['filename.pkl']"
            ]
          },
          "metadata": {
            "tags": []
          },
          "execution_count": 104
        }
      ]
    },
    {
      "cell_type": "code",
      "metadata": {
        "colab": {
          "base_uri": "https://localhost:8080/"
        },
        "id": "c-ZN9AsVwXCZ",
        "outputId": "f5b81de7-4c50-4b8a-c784-ddedc7a8101b"
      },
      "source": [
        "print(x)"
      ],
      "execution_count": null,
      "outputs": [
        {
          "output_type": "stream",
          "text": [
            "0       Go until jurong point, crazy.. Available only ...\n",
            "1                           Ok lar... Joking wif u oni...\n",
            "2       Free entry in 2 a wkly comp to win FA Cup fina...\n",
            "3       U dun say so early hor... U c already then say...\n",
            "4       Nah I don't think he goes to usf, he lives aro...\n",
            "                              ...                        \n",
            "5567    This is the 2nd time we have tried 2 contact u...\n",
            "5568               Will Ã_ b going to esplanade fr home?\n",
            "5569    Pity, * was in mood for that. So...any other s...\n",
            "5570    The guy did some bitching but I acted like i'd...\n",
            "5571                           Rofl. Its true to its name\n",
            "Name: EmailText, Length: 5572, dtype: object\n"
          ],
          "name": "stdout"
        }
      ]
    },
    {
      "cell_type": "code",
      "metadata": {
        "colab": {
          "base_uri": "https://localhost:8080/"
        },
        "id": "_DCmSajzwYIk",
        "outputId": "2598948f-3f7f-4e8d-fcc4-5c28ddd72fe4"
      },
      "source": [
        "print(y)"
      ],
      "execution_count": null,
      "outputs": [
        {
          "output_type": "stream",
          "text": [
            "0        ham\n",
            "1        ham\n",
            "2       spam\n",
            "3        ham\n",
            "4        ham\n",
            "        ... \n",
            "5567    spam\n",
            "5568     ham\n",
            "5569     ham\n",
            "5570     ham\n",
            "5571     ham\n",
            "Name: Label, Length: 5572, dtype: object\n"
          ],
          "name": "stdout"
        }
      ]
    },
    {
      "cell_type": "code",
      "metadata": {
        "colab": {
          "base_uri": "https://localhost:8080/"
        },
        "id": "gp-pgPMZwbTv",
        "outputId": "6ac322bf-d9f8-45dc-a2fd-5a374705ad5d"
      },
      "source": [
        "y.count()"
      ],
      "execution_count": null,
      "outputs": [
        {
          "output_type": "execute_result",
          "data": {
            "text/plain": [
              "5572"
            ]
          },
          "metadata": {
            "tags": []
          },
          "execution_count": 107
        }
      ]
    },
    {
      "cell_type": "code",
      "metadata": {
        "colab": {
          "base_uri": "https://localhost:8080/"
        },
        "id": "CBowi4wuwhBq",
        "outputId": "2fbd015f-fa87-4f75-9ee9-503f99529d3c"
      },
      "source": [
        "y.unique()"
      ],
      "execution_count": null,
      "outputs": [
        {
          "output_type": "execute_result",
          "data": {
            "text/plain": [
              "array(['ham', 'spam'], dtype=object)"
            ]
          },
          "metadata": {
            "tags": []
          },
          "execution_count": 108
        }
      ]
    },
    {
      "cell_type": "code",
      "metadata": {
        "colab": {
          "base_uri": "https://localhost:8080/"
        },
        "id": "Y4kZFO3Bwvf7",
        "outputId": "0774b301-824f-41d4-b8fa-b1584f4ad550"
      },
      "source": [
        "dataframe['Label'].value_counts()"
      ],
      "execution_count": null,
      "outputs": [
        {
          "output_type": "execute_result",
          "data": {
            "text/plain": [
              "ham     4825\n",
              "spam     747\n",
              "Name: Label, dtype: int64"
            ]
          },
          "metadata": {
            "tags": []
          },
          "execution_count": 109
        }
      ]
    },
    {
      "cell_type": "code",
      "metadata": {
        "colab": {
          "base_uri": "https://localhost:8080/",
          "height": 302
        },
        "id": "kRkpulHD0V60",
        "outputId": "940c35bf-c6c5-4700-edf0-7c7a2f13cf67"
      },
      "source": [
        "dataframe['Label'].value_counts().plot(kind='bar')"
      ],
      "execution_count": null,
      "outputs": [
        {
          "output_type": "execute_result",
          "data": {
            "text/plain": [
              "<matplotlib.axes._subplots.AxesSubplot at 0x7f78a1e5c400>"
            ]
          },
          "metadata": {
            "tags": []
          },
          "execution_count": 110
        },
        {
          "output_type": "display_data",
          "data": {
            "image/png": "[encoded data removed]",
            "text/plain": [
              "<Figure size 432x288 with 1 Axes>"
            ]
          },
          "metadata": {
            "tags": [],
            "needs_background": "light"
          }
        }
      ]
    },
    {
      "cell_type": "code",
      "metadata": {
        "colab": {
          "base_uri": "https://localhost:8080/"
        },
        "id": "j60KcUkEAjyj",
        "outputId": "198fc6e3-fe59-4fed-c8a4-4408dce18375"
      },
      "source": [
        "loaded_model = joblib.load('/content/filename.pkl')\r\n",
        "a = input('Enter the text:- ')\r\n",
        "result = model.predict(cv.transform([a]))\r\n",
        "print(result[0])"
      ],
      "execution_count": null,
      "outputs": [
        {
          "output_type": "stream",
          "text": [
            "Enter the text:- Urgent UR awarded a complimentary trip to EuroDisinc Trav, Aco&Entry41 Or ÃƒÂ¥Ã‚Â£1000. To claim txt DIS to 87121 18+6*ÃƒÂ¥Ã‚Â£1.50(moreFrmMob. ShrAcomOrSglSuplt)10, LS1 3AJ\n",
            "spam\n"
          ],
          "name": "stdout"
        }
      ]
    }
  ]
}